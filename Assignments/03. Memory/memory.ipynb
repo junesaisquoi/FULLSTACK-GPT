{
 "cells": [
  {
   "cell_type": "code",
   "execution_count": null,
   "id": "f4862705",
   "metadata": {},
   "outputs": [
    {
     "name": "stdout",
     "output_type": "stream",
     "text": [
      "\"Director: Jean-Pierre Jeunet\"\n",
      "\"Main Cast: Audrey Tautou\"\n",
      "\"Genre: Romantic comedy\"\n",
      "\"Synopsis: A whimsical young woman in Paris decides to change the lives of those around her for the better while struggling with her own isolation and longing for love.\""
     ]
    },
    {
     "data": {
      "text/plain": [
       "AIMessage(content='\"Director: Jean-Pierre Jeunet\"\\n\"Main Cast: Audrey Tautou\"\\n\"Genre: Romantic comedy\"\\n\"Synopsis: A whimsical young woman in Paris decides to change the lives of those around her for the better while struggling with her own isolation and longing for love.\"', additional_kwargs={}, response_metadata={'finish_reason': 'stop', 'model_name': 'gpt-3.5-turbo-0125', 'service_tier': 'default'}, id='run--5922ad20-9b24-4d98-baa3-07a179f5cb30-0')"
      ]
     },
     "execution_count": 1,
     "metadata": {},
     "output_type": "execute_result"
    }
   ],
   "source": [
    "from langchain.chat_models import ChatOpenAI\n",
    "from langchain.prompts import PromptTemplate\n",
    "from langchain.prompts import ChatPromptTemplate\n",
    "from langchain.prompts.few_shot import FewShotPromptTemplate\n",
    "from langchain.prompts.few_shot import FewShotChatMessagePromptTemplate\n",
    "from langchain.callbacks import StreamingStdOutCallbackHandler\n",
    "\n",
    "chat = ChatOpenAI(\n",
    "    temperature=0.1,\n",
    "    streaming=True,\n",
    "    callbacks=[\n",
    "        StreamingStdOutCallbackHandler(),\n",
    "    ],\n",
    ")"
   ]
  }
 ],
 "metadata": {
  "kernelspec": {
   "display_name": "env",
   "language": "python",
   "name": "python3"
  },
  "language_info": {
   "codemirror_mode": {
    "name": "ipython",
    "version": 3
   },
   "file_extension": ".py",
   "mimetype": "text/x-python",
   "name": "python",
   "nbconvert_exporter": "python",
   "pygments_lexer": "ipython3",
   "version": "3.11.0"
  }
 },
 "nbformat": 4,
 "nbformat_minor": 5
}
