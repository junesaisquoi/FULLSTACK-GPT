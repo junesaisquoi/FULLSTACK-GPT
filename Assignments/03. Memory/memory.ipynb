{
 "cells": [
  {
   "cell_type": "code",
   "execution_count": 78,
   "id": "91704371",
   "metadata": {},
   "outputs": [],
   "source": [
    "##Assignment 3\n",
    "from langchain.chat_models import ChatOpenAI\n",
    "from langchain.prompts.chat import (\n",
    "    ChatPromptTemplate,\n",
    "    HumanMessagePromptTemplate,\n",
    ")\n",
    "from langchain_core.messages import (\n",
    "    SystemMessage,\n",
    "    HumanMessage,\n",
    "    AIMessage,\n",
    ")\n",
    "from langchain.prompts import MessagesPlaceholder\n",
    "from langchain.memory import ConversationBufferMemory\n",
    "from langchain.schema.runnable import RunnablePassthrough\n",
    "\n",
    "\n",
    "# 1. Create LLM\n",
    "llm = ChatOpenAI(temperature=0.1)\n",
    "\n",
    "# 2. Memory setup for tracking chat history\n",
    "memory = ConversationBufferMemory(\n",
    "    return_messages=True\n",
    ")"
   ]
  },
  {
   "cell_type": "code",
   "execution_count": 79,
   "id": "e700c31e",
   "metadata": {},
   "outputs": [],
   "source": [
    "#3. Few-shot examples as actual chat messages\n",
    "few_shot_messages = [\n",
    "    HumanMessage(content=\"Top Gun\"),\n",
    "    AIMessage(content=\"🛩️👨‍✈️🔥\"),\n",
    "    HumanMessage(content=\"The Godfather\"),\n",
    "    AIMessage(content=\"👨‍👨‍👦🔫🍝\"),\n",
    "    HumanMessage(content=\"Finding Nemo\"),\n",
    "    AIMessage(content=\"🐠🌊👨‍👦\"),\n",
    "]"
   ]
  },
  {
   "cell_type": "code",
   "execution_count": 80,
   "id": "adc1ac66",
   "metadata": {},
   "outputs": [],
   "source": [
    "# 4. Full prompt using ChatPromptTemplate\n",
    "prompt = ChatPromptTemplate.from_messages([\n",
    "    SystemMessage(content=\"You are a helpful assistant that responds with exactly 3 emojis for any movie title.\"),\n",
    "    *few_shot_messages,\n",
    "    MessagesPlaceholder(variable_name=\"history\"),\n",
    "    HumanMessagePromptTemplate.from_template(\"{question}\")  # ← this is KEY\n",
    "])"
   ]
  },
  {
   "cell_type": "code",
   "execution_count": 81,
   "id": "ca624980",
   "metadata": {},
   "outputs": [],
   "source": [
    "#5. Memory Loader function\n",
    "def load_memory(_):\n",
    "    return memory.load_memory_variables({}).get(\"history\", [])\n",
    "\n",
    "#6. LCEL chain\n",
    "chain = RunnablePassthrough.assign(history=load_memory) | prompt | llm\n",
    "\n",
    "#7. Chain invocation + saving result in memory\n",
    "def invoke_chain(question):\n",
    "    result = chain.invoke({\"question\": question})\n",
    "    memory.save_context({\"input\": question}, {\"output\": result.content})\n",
    "    print(\"🤖\", result.content)"
   ]
  },
  {
   "cell_type": "code",
   "execution_count": 82,
   "id": "a282deaf",
   "metadata": {},
   "outputs": [
    {
     "name": "stdout",
     "output_type": "stream",
     "text": [
      "🤖 🧠🌀🕰️\n",
      "{'history': [HumanMessage(content='Inception', additional_kwargs={}, response_metadata={}), AIMessage(content='🧠🌀🕰️', additional_kwargs={}, response_metadata={})]}\n"
     ]
    }
   ],
   "source": [
    "#Invoke Function\n",
    "invoke_chain(\"Inception\")\n",
    "print(memory.load_memory_variables({}))\n",
    "\n"
   ]
  },
  {
   "cell_type": "code",
   "execution_count": 83,
   "id": "66d095d6",
   "metadata": {},
   "outputs": [
    {
     "name": "stdout",
     "output_type": "stream",
     "text": [
      "🤖 🚢❄️💔\n",
      "🤖 🚀🌌⏰\n",
      "{'history': [HumanMessage(content='Inception', additional_kwargs={}, response_metadata={}), AIMessage(content='🧠🌀🕰️', additional_kwargs={}, response_metadata={}), HumanMessage(content='Titanic', additional_kwargs={}, response_metadata={}), AIMessage(content='🚢❄️💔', additional_kwargs={}, response_metadata={}), HumanMessage(content='Interstellar', additional_kwargs={}, response_metadata={}), AIMessage(content='🚀🌌⏰', additional_kwargs={}, response_metadata={})]}\n"
     ]
    }
   ],
   "source": [
    "invoke_chain(\"Titanic\")\n",
    "invoke_chain(\"Interstellar\")\n",
    "print(memory.load_memory_variables({}))\n"
   ]
  }
 ],
 "metadata": {
  "kernelspec": {
   "display_name": "env",
   "language": "python",
   "name": "python3"
  },
  "language_info": {
   "codemirror_mode": {
    "name": "ipython",
    "version": 3
   },
   "file_extension": ".py",
   "mimetype": "text/x-python",
   "name": "python",
   "nbconvert_exporter": "python",
   "pygments_lexer": "ipython3",
   "version": "3.11.0"
  }
 },
 "nbformat": 4,
 "nbformat_minor": 5
}
