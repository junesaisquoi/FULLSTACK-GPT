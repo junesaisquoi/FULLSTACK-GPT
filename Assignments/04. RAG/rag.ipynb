{
 "cells": [
  {
   "cell_type": "code",
   "execution_count": null,
   "id": "2a8104ad",
   "metadata": {},
   "outputs": [
    {
     "name": "stdout",
     "output_type": "stream",
     "text": [
      "\n",
      "❓ Is Aaronson guilty?\n",
      "👉 In the text provided, it is mentioned that Jones, Aaronson, and Rutherford were guilty of the crimes they were charged with. However, it is also stated that Winston had never seen the photograph that disproved their guilt and that it had never existed, he had invented it. This ambiguity suggests that the guilt of Aaronson and the others may not be as clear-cut as it seems.\n",
      "\n",
      "❓ What message did he write in the table?\n",
      "👉 He wrote \"FREEDOM IS SLAVERY\" and then wrote \"TWO AND TWO MAKE FIVE\" beneath it.\n",
      "\n",
      "❓ Who is Julia?\n",
      "👉 Julia is a character from George Orwell's novel \"1984.\" She is a woman who becomes romantically involved with the protagonist, Winston Smith. Their relationship is a central part of the story, as they rebel against the oppressive regime of the Party in the dystopian society depicted in the novel.\n"
     ]
    }
   ],
   "source": [
    "from langchain.chat_models import ChatOpenAI\n",
    "from langchain.document_loaders import TextLoader\n",
    "from langchain.text_splitter import CharacterTextSplitter\n",
    "from langchain.embeddings import OpenAIEmbeddings, CacheBackedEmbeddings\n",
    "from langchain.vectorstores import FAISS\n",
    "from langchain.storage import LocalFileStore\n",
    "from langchain.chains import ConversationalRetrievalChain\n",
    "from langchain.memory import ConversationBufferMemory\n",
    "import requests\n",
    "\n",
    "# Initialize the language model\n",
    "llm = ChatOpenAI(temperature=0.1)\n",
    "\n",
    "# Download the document from the Gist URL\n",
    "response = requests.get(\"https://gist.githubusercontent.com/serranoarevalo/5acf755c2b8d83f1707ef266b82ea223/raw\")\n",
    "with open(\"document.txt\", \"w\", encoding=\"utf-8\") as f:\n",
    "    f.write(response.text)\n",
    "\n",
    "# Load the document from the downloaded file\n",
    "loader = TextLoader(\"document.txt\", encoding=\"utf-8\")\n",
    "\n",
    "# Split the document into overlapping chunks\n",
    "splitter = CharacterTextSplitter.from_tiktoken_encoder(\n",
    "    separator=\"\\n\",\n",
    "    chunk_size=600,\n",
    "    chunk_overlap=100,\n",
    ")\n",
    "docs = loader.load_and_split(text_splitter=splitter)\n",
    "\n",
    "# Set up cached OpenAI embeddings\n",
    "embeddings = OpenAIEmbeddings()\n",
    "cache_dir = LocalFileStore(\"./.cache/\")\n",
    "cached_embeddings = CacheBackedEmbeddings.from_bytes_store(embeddings, cache_dir)\n",
    "\n",
    "# Store document chunks in a FAISS vectorstore\n",
    "vectorstore = FAISS.from_documents(docs, cached_embeddings)\n",
    "retriever = vectorstore.as_retriever()\n",
    "\n",
    "# Set up conversation memory to keep chat history\n",
    "memory = ConversationBufferMemory(\n",
    "    memory_key=\"chat_history\",\n",
    "    return_messages=True,\n",
    "    output_key=\"answer\"\n",
    ")\n",
    "\n",
    "# Create a StuffDocuments RAG chain with memory\n",
    "qa_chain = ConversationalRetrievalChain.from_llm(\n",
    "    llm=llm,\n",
    "    retriever=retriever,\n",
    "    memory=memory,\n",
    "    return_source_documents=True,\n",
    "    output_key=\"answer\"\n",
    ")\n",
    "\n",
    "# Ask questions to the chain\n",
    "questions = [\n",
    "    \"Is Aaronson guilty?\",\n",
    "    \"What message did he write in the table?\",\n",
    "    \"Who is Julia?\"\n",
    "]\n",
    "\n",
    "for q in questions:\n",
    "    result = qa_chain.invoke({\"question\": q})\n",
    "    print(f\"\\n❓ {q}\\n👉 {result['answer']}\")"
   ]
  }
 ],
 "metadata": {
  "kernelspec": {
   "display_name": "env",
   "language": "python",
   "name": "python3"
  },
  "language_info": {
   "codemirror_mode": {
    "name": "ipython",
    "version": 3
   },
   "file_extension": ".py",
   "mimetype": "text/x-python",
   "name": "python",
   "nbconvert_exporter": "python",
   "pygments_lexer": "ipython3",
   "version": "3.11.0"
  }
 },
 "nbformat": 4,
 "nbformat_minor": 5
}
