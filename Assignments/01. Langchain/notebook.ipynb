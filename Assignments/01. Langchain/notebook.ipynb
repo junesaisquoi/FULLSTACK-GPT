{
 "cells": [
  {
   "cell_type": "code",
   "execution_count": null,
   "id": "58097a77",
   "metadata": {},
   "outputs": [
    {
     "name": "stderr",
     "output_type": "stream",
     "text": [
      "C:\\Users\\hojun\\AppData\\Local\\Temp\\ipykernel_5976\\709628748.py:6: LangChainDeprecationWarning: The class `ChatOpenAI` was deprecated in LangChain 0.0.10 and will be removed in 1.0. An updated version of the class exists in the :class:`~langchain-openai package and should be used instead. To use it run `pip install -U :class:`~langchain-openai` and import as `from :class:`~langchain_openai import ChatOpenAI``.\n",
      "  chat = ChatOpenAI(\n"
     ]
    }
   ],
   "source": [
    "from langchain_openai import ChatOpenAI\n",
    "from langchain.prompts import ChatPromptTemplate, PromptTemplate\n",
    "from langchain.callbacks import StreamingStdOutCallbackHandler\n",
    "\n",
    "# setup streaming Chat model\n",
    "chat = ChatOpenAI(\n",
    "    temperature=0.1,\n",
    "    streaming=True,\n",
    "    callbacks=[StreamingStdOutCallbackHandler()]\n",
    "    )\n",
    "\n",
    "# first chain: haiku_writer generates a haiku\n",
    "haiku_writer_prompt = ChatPromptTemplate.from_messages([\n",
    "    (\"system\", \"You are a world-class haiku writer about programming languages. Write  a haiju about the given programming language.\"),\n",
    "    (\"human\", \"I want to write a haiku about {language}.\"),])\n",
    "\n",
    "haiku_writer_chain = haiku_writer_prompt | chat"
   ]
  },
  {
   "cell_type": "code",
   "execution_count": null,
   "id": "706821e0",
   "metadata": {},
   "outputs": [
    {
     "name": "stdout",
     "output_type": "stream",
     "text": [
      "Great choice! Indian cuisine is known for its bold flavors and aromatic spices. Let's start with a classic and easy recipe for Chicken Tikka Masala. \n",
      "\n",
      "Ingredients:\n",
      "- 1 lb boneless, skinless chicken breasts, cut into bite-sized pieces\n",
      "- 1 cup plain yogurt\n",
      "- 2 tbsp lemon juice\n",
      "- 2 tsp ground cumin\n",
      "- 2 tsp paprika\n",
      "- 1 tsp ground turmeric\n",
      "- 1 tsp garam masala\n",
      "- 1 tsp ground coriander\n",
      "- 1/2 tsp cayenne pepper (adjust to taste)\n",
      "- Salt and pepper to taste\n",
      "- 2 tbsp vegetable oil\n",
      "- 1 onion, finely chopped\n",
      "- 3 cloves garlic, minced\n",
      "- 1-inch piece of ginger, grated\n",
      "- 1 can (14 oz) crushed tomatoes\n",
      "- 1 cup heavy cream\n",
      "- Fresh cilantro, chopped (for garnish)\n",
      "\n",
      "Instructions:\n",
      "1. In a bowl, combine the yogurt, lemon juice, cumin, paprika, turmeric, garam masala, coriander, cayenne pepper, salt, and pepper. Add the chicken pieces and coat them well with the marinade. Cover and refrigerate for at least 1 hour, or overnight for best results.\n",
      "\n",
      "2. Preheat the oven to 400°F (200°C). Thread the marinated chicken pieces onto skewers and place them on a baking sheet lined with foil. Bake for 20-25 minutes or until the chicken is cooked through.\n",
      "\n",
      "3. In a large skillet, heat the vegetable oil over medium heat. Add the chopped onion and cook until softened, about 5 minutes. Add the garlic and ginger, and cook for another minute until fragrant.\n",
      "\n",
      "4. Stir in the crushed tomatoes and simmer for 10 minutes, stirring occasionally. Add the heavy cream and cooked chicken tikka pieces. Simmer for an additional 5-10 minutes to allow the flavors to meld together.\n",
      "\n",
      "5. Taste and adjust seasoning as needed. Serve the Chicken Tikka Masala over steamed rice or with naan bread. Garnish with fresh cilantro before serving.\n",
      "\n",
      "Enjoy your homemade Chicken Tikka Masala! Feel free to customize the spice levels to suit your taste preferences.For a vegetarian version of Chicken Tikka Masala, you can substitute the chicken with a plant-based alternative such as tofu or paneer. Here's how you can adapt the recipe:\n",
      "\n",
      "Ingredients:\n",
      "- 1 lb firm tofu or paneer, cut into bite-sized pieces\n",
      "- 1 cup plain yogurt (you can use dairy-free yogurt for a vegan version)\n",
      "- 2 tbsp lemon juice\n",
      "- 2 tsp ground cumin\n",
      "- 2 tsp paprika\n",
      "- 1 tsp ground turmeric\n",
      "- 1 tsp garam masala\n",
      "- 1 tsp ground coriander\n",
      "- 1/2 tsp cayenne pepper (adjust to taste)\n",
      "- Salt and pepper to taste\n",
      "- 2 tbsp vegetable oil\n",
      "- 1 onion, finely chopped\n",
      "- 3 cloves garlic, minced\n",
      "- 1-inch piece of ginger, grated\n",
      "- 1 can (14 oz) crushed tomatoes\n",
      "- 1 cup coconut cream (or any other dairy-free cream alternative)\n",
      "- Fresh cilantro, chopped (for garnish)\n",
      "\n",
      "Instructions:\n",
      "1. Follow the same marinating process as the original recipe, but use tofu or paneer instead of chicken. Marinate the tofu or paneer in the yogurt and spice mixture for at least 1 hour.\n",
      "\n",
      "2. Instead of baking the chicken, you can pan-fry the marinated tofu or paneer until golden brown on all sides.\n",
      "\n",
      "3. Proceed with the recipe as instructed, replacing the chicken with the cooked tofu or paneer when adding it to the tomato and cream sauce.\n",
      "\n",
      "4. Simmer the mixture for 5-10 minutes to allow the flavors to blend together.\n",
      "\n",
      "5. Taste and adjust the seasoning as needed. Serve the Vegetarian Tikka Masala over steamed rice or with naan bread. Garnish with fresh cilantro before serving.\n",
      "\n",
      "Enjoy your flavorful Vegetarian Tikka Masala! You can still customize the spice levels to suit your preferences."
     ]
    },
    {
     "data": {
      "text/plain": [
       "AIMessage(content=\"For a vegetarian version of Chicken Tikka Masala, you can substitute the chicken with a plant-based alternative such as tofu or paneer. Here's how you can adapt the recipe:\\n\\nIngredients:\\n- 1 lb firm tofu or paneer, cut into bite-sized pieces\\n- 1 cup plain yogurt (you can use dairy-free yogurt for a vegan version)\\n- 2 tbsp lemon juice\\n- 2 tsp ground cumin\\n- 2 tsp paprika\\n- 1 tsp ground turmeric\\n- 1 tsp garam masala\\n- 1 tsp ground coriander\\n- 1/2 tsp cayenne pepper (adjust to taste)\\n- Salt and pepper to taste\\n- 2 tbsp vegetable oil\\n- 1 onion, finely chopped\\n- 3 cloves garlic, minced\\n- 1-inch piece of ginger, grated\\n- 1 can (14 oz) crushed tomatoes\\n- 1 cup coconut cream (or any other dairy-free cream alternative)\\n- Fresh cilantro, chopped (for garnish)\\n\\nInstructions:\\n1. Follow the same marinating process as the original recipe, but use tofu or paneer instead of chicken. Marinate the tofu or paneer in the yogurt and spice mixture for at least 1 hour.\\n\\n2. Instead of baking the chicken, you can pan-fry the marinated tofu or paneer until golden brown on all sides.\\n\\n3. Proceed with the recipe as instructed, replacing the chicken with the cooked tofu or paneer when adding it to the tomato and cream sauce.\\n\\n4. Simmer the mixture for 5-10 minutes to allow the flavors to blend together.\\n\\n5. Taste and adjust the seasoning as needed. Serve the Vegetarian Tikka Masala over steamed rice or with naan bread. Garnish with fresh cilantro before serving.\\n\\nEnjoy your flavorful Vegetarian Tikka Masala! You can still customize the spice levels to suit your preferences.\", additional_kwargs={}, response_metadata={'finish_reason': 'stop'}, id='run--0ee3513d-59ca-47cf-bc96-6d8fc7c958a8-0')"
      ]
     },
     "execution_count": 4,
     "metadata": {},
     "output_type": "execute_result"
    }
   ],
   "source": [
    "# second chain: the interpreter interprets the haiku\n",
    "haiku_interpreter_prompt = ChatPromptTemplate.from_messages([\n",
    "    (\"system\", \"You are a renowned haiku interpreter. You interpret the haiku and extract the meanings behind the words. You explain the haiku in a way that is easy to understand. You also make sure that it's highly engaging and suitable for a wide audience, with using emojis.\"),\n",
    "    (\"human\", \"{interpretation}\"),\n",
    "    ])\n",
    "\n",
    "haiku_interpreter_chain = haiku_interpreter_prompt | chat\n",
    "\n",
    "# glue them together: pass output of haiku_writer_chain to haiku_interpreter_chain\n",
    "final_chain = {\"interpretation\":haiku_writer_chain} | haiju_interpreter_chain\n",
    "\n",
    "# invoke end-to-end\n",
    "final_chain.invoke({\n",
    "    \"language\": \"Korean\",\n",
    "})\n",
    "\n"
   ]
  }
 ],
 "metadata": {
  "kernelspec": {
   "display_name": "env",
   "language": "python",
   "name": "python3"
  },
  "language_info": {
   "codemirror_mode": {
    "name": "ipython",
    "version": 3
   },
   "file_extension": ".py",
   "mimetype": "text/x-python",
   "name": "python",
   "nbconvert_exporter": "python",
   "pygments_lexer": "ipython3",
   "version": "3.11.0"
  }
 },
 "nbformat": 4,
 "nbformat_minor": 5
}
