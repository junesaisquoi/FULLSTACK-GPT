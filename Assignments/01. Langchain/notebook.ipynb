{
 "cells": [
  {
   "cell_type": "code",
   "execution_count": 5,
   "id": "58097a77",
   "metadata": {},
   "outputs": [],
   "source": [
    "from langchain_openai import ChatOpenAI\n",
    "from langchain.prompts import ChatPromptTemplate, PromptTemplate\n",
    "from langchain.callbacks import StreamingStdOutCallbackHandler\n",
    "\n",
    "# setup streaming Chat model\n",
    "chat = ChatOpenAI(\n",
    "    temperature=0.1,\n",
    "    streaming=True,\n",
    "    callbacks=[StreamingStdOutCallbackHandler()]\n",
    "    )\n",
    "\n",
    "# first chain: haiku_writer generates a haiku\n",
    "haiku_writer_prompt = ChatPromptTemplate.from_messages([\n",
    "    (\"system\", \"You are a world-class haiku writer about programming languages. Write a haiku about the given programming language that's poetic and impactful.\"),\n",
    "    (\"human\", \"I want to write a haiku about {language}.\"),])\n",
    "\n",
    "haiku_writer_chain = haiku_writer_prompt | chat"
   ]
  },
  {
   "cell_type": "code",
   "execution_count": 6,
   "id": "706821e0",
   "metadata": {},
   "outputs": [
    {
     "name": "stdout",
     "output_type": "stream",
     "text": [
      "Indentation dance,\n",
      "Python's syntax pure and clean,\n",
      "Code flows like a stream.In the world of code,\n",
      "Python's dance is elegant,\n",
      "Syntax like a stream. 🐍💻\n",
      "\n",
      "This haiku beautifully captures the essence of Python programming language. The \"indentation dance\" refers to Python's unique feature of using indentation to define code blocks, making it visually appealing and organized. \"Python's syntax pure and clean\" highlights the simplicity and readability of Python code, which flows smoothly like a stream. Just like a well-choreographed dance, Python code is structured and graceful, making it a joy to work with."
     ]
    },
    {
     "data": {
      "text/plain": [
       "AIMessage(content='In the world of code,\\nPython\\'s dance is elegant,\\nSyntax like a stream. 🐍💻\\n\\nThis haiku beautifully captures the essence of Python programming language. The \"indentation dance\" refers to Python\\'s unique feature of using indentation to define code blocks, making it visually appealing and organized. \"Python\\'s syntax pure and clean\" highlights the simplicity and readability of Python code, which flows smoothly like a stream. Just like a well-choreographed dance, Python code is structured and graceful, making it a joy to work with.', additional_kwargs={}, response_metadata={'finish_reason': 'stop', 'model_name': 'gpt-3.5-turbo-0125', 'service_tier': 'default'}, id='run--d17d2147-bcf1-4432-b5ef-649015c4844b-0')"
      ]
     },
     "execution_count": 6,
     "metadata": {},
     "output_type": "execute_result"
    }
   ],
   "source": [
    "# second chain: the interpreter interprets the haiku\n",
    "haiku_interpreter_prompt = ChatPromptTemplate.from_messages([\n",
    "    (\"system\", \"You are a renowned haiku interpreter. You interpret the haiku and extract the meanings behind the words. You explain the haiku in a way that is easy to understand. You also make sure that it's highly engaging and suitable for a wide audience, with using emojis.\"),\n",
    "    (\"human\", \"{interpretation}\"),\n",
    "    ])\n",
    "\n",
    "haiku_interpreter_chain = haiku_interpreter_prompt | chat\n",
    "\n",
    "# glue them together: pass output of haiku_writer_chain to haiku_interpreter_chain\n",
    "final_chain = {\"interpretation\":haiku_writer_chain} | haiku_interpreter_chain\n",
    "\n",
    "# invoke end-to-end\n",
    "final_chain.invoke({\n",
    "    \"language\": \"Python\",\n",
    "})\n",
    "\n"
   ]
  }
 ],
 "metadata": {
  "kernelspec": {
   "display_name": "env",
   "language": "python",
   "name": "python3"
  },
  "language_info": {
   "codemirror_mode": {
    "name": "ipython",
    "version": 3
   },
   "file_extension": ".py",
   "mimetype": "text/x-python",
   "name": "python",
   "nbconvert_exporter": "python",
   "pygments_lexer": "ipython3",
   "version": "3.11.0"
  }
 },
 "nbformat": 4,
 "nbformat_minor": 5
}
