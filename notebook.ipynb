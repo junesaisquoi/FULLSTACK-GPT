{
 "cells": [
  {
   "cell_type": "code",
   "execution_count": 25,
   "id": "2a8104ad",
   "metadata": {},
   "outputs": [
    {
     "name": "stdout",
     "output_type": "stream",
     "text": [
      "\n",
      "\n",
      "[STUDENT]The meaning of potato is a starchy tuber that is often boiled, fried, or baked as a popular food item. It is rich in carbohydrates, vitamins C and B6, and minerals like potassium and phosphorus. Potatoes are grown in various parts of the world and are widely used in different cuisines, such as Irish stew, French fries, and Indian aloo gobi. In some cultures, potatoes are also used as a decorative element in floral arrangements or as a natural source of biodegradable packaging materials due to their unique properties, such as low moisture content and high strength-to-weight ratio. However, consuming too many potatoes, especially in the form of processed foods, may lead to weight gain and other health concerns due to their high calorie and salt content.\n"
     ]
    }
   ],
   "source": [
    "# ── 1. Install / upgrade the right libraries ──────────────────────────────\n",
    "# Run once in your terminal, not inside Python:\n",
    "#   pip install -U langchain-core langchain-community langchain-huggingface \\\n",
    "#                python-dotenv huggingface_hub\n",
    "\n",
    "# ── 2. Load env vars (expects .env with HUGGINGFACEHUB_API_TOKEN=hf_...) ──\n",
    "from dotenv import load_dotenv\n",
    "load_dotenv()                    # reads .env into os.environ\n",
    "\n",
    "import os, sys\n",
    "token = os.getenv(\"HUGGINGFACEHUB_API_TOKEN\")\n",
    "if not token:\n",
    "    sys.exit(\n",
    "        \"❌  Set HUGGINGFACEHUB_API_TOKEN in .env (or export it) before running.\"\n",
    "    )\n",
    "    \n",
    "# ── 3. Build an LLM runnable ------------------------------------------------\n",
    "from langchain_huggingface import HuggingFaceEndpoint\n",
    "from langchain.prompts import PromptTemplate\n",
    "\n",
    "prompt = PromptTemplate.from_template(\"[INST]What is the meaning of {word}?[/INST]\")\n",
    "\n",
    "llm = HuggingFaceEndpoint(\n",
    "    repo_id=\"HuggingFaceH4/zephyr-7b-beta\",\n",
    "    task=\"text-generation\",\n",
    "    max_new_tokens=250\n",
    ")\n",
    "\n",
    "chain = prompt | llm\n",
    "\n",
    "# ── 4. Use it ---------------------------------------------------------------\n",
    "print(chain.invoke({\"word\": \"potato\"}))\n"
   ]
  }
 ],
 "metadata": {
  "kernelspec": {
   "display_name": "env",
   "language": "python",
   "name": "python3"
  },
  "language_info": {
   "codemirror_mode": {
    "name": "ipython",
    "version": 3
   },
   "file_extension": ".py",
   "mimetype": "text/x-python",
   "name": "python",
   "nbconvert_exporter": "python",
   "pygments_lexer": "ipython3",
   "version": "3.11.0"
  }
 },
 "nbformat": 4,
 "nbformat_minor": 5
}
