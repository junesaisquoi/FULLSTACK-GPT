{
 "cells": [
  {
   "cell_type": "code",
   "execution_count": 7,
   "id": "2a8104ad",
   "metadata": {},
   "outputs": [
    {
     "data": {
      "text/plain": [
       "'{\"questions\":[{\"question\":\"What is the official nickname of San Francisco?\",\"answers\":[{\"answer\":\"The Golden City\",\"correct\":false},{\"answer\":\"The City by the Bay\",\"correct\":true},{\"answer\":\"Fog City\",\"correct\":false}]},{\"question\":\"Which famous prison is located on an island in San Francisco Bay?\",\"answers\":[{\"answer\":\"Alcatraz\",\"correct\":true},{\"answer\":\"San Quentin\",\"correct\":false},{\"answer\":\"Folsom\",\"correct\":false}]},{\"question\":\"What iconic red structure is a symbol of San Francisco?\",\"answers\":[{\"answer\":\"Golden Gate Bridge\",\"correct\":true},{\"answer\":\"Bay Bridge\",\"correct\":false},{\"answer\":\"Coit Tower\",\"correct\":false}]},{\"question\":\"What is the famous former hippie district in San Francisco known for its Victorian houses?\",\"answers\":[{\"answer\":\"Haight-Ashbury\",\"correct\":true},{\"answer\":\"Mission District\",\"correct\":false},{\"answer\":\"Castro\",\"correct\":false}]},{\"question\":\"Which sports team is based in San Francisco and has won multiple Super Bowl championships?\",\"answers\":[{\"answer\":\"San Francisco Giants\",\"correct\":false},{\"answer\":\"Golden State Warriors\",\"correct\":false},{\"answer\":\"San Francisco 49ers\",\"correct\":true}]}]}'"
      ]
     },
     "execution_count": 7,
     "metadata": {},
     "output_type": "execute_result"
    }
   ],
   "source": [
    "from langchain.chat_models import ChatOpenAI\n",
    "from langchain.prompts import PromptTemplate\n",
    "\n",
    "function = {\n",
    "    \"name\": \"create_quiz\",\n",
    "    \"description\": \"function that takes a list of questions and answers and returns quizzes\",\n",
    "    \"parameters\": {\n",
    "        \"type\": \"object\",\n",
    "        \"properties\": {\n",
    "            \"questions\": {\n",
    "                \"type\": \"array\",\n",
    "                \"items\": {\n",
    "                    \"type\": \"object\",\n",
    "                    \"properties\": {\n",
    "                        \"question\": {\n",
    "                            \"type\": \"string\",\n",
    "                        },\n",
    "                        \"answers\": {\n",
    "                            \"type\": \"array\",\n",
    "                            \"items\": {\n",
    "                                \"type\": \"object\",\n",
    "                                \"properties\": {\n",
    "                                    \"answer\": {\n",
    "                                        \"type\": \"string\",\n",
    "                                    },\n",
    "                        \"correct\": {\n",
    "                                        \"type\": \"boolean\",\n",
    "                                    },\n",
    "                                },\n",
    "                                \"required\": [\"answer\", \"correct\"],\n",
    "                            },\n",
    "                        },\n",
    "                    },\n",
    "                    \"required\": [\"question\", \"answers\"],\n",
    "                },\n",
    "            }\n",
    "        },\n",
    "        \"required\": [\"questions\"],\n",
    "    },\n",
    "}\n",
    "\n",
    "llm = ChatOpenAI(\n",
    "    temperature=0.1\n",
    "    ).bind(\n",
    "        function_call={\n",
    "         \"name\":\"create_quiz\"},\n",
    "        functions=[\n",
    "            function\n",
    "        ],\n",
    "    )\n",
    "prompt = PromptTemplate.from_template(\"MAke quizzes about {city}?\")\n",
    "\n",
    "chain = prompt | llm\n",
    "\n",
    "response = chain.invoke({\n",
    "    \"city\": \"San Francisco\"\n",
    "    })\n",
    "\n",
    "response = response.additional_kwargs[\"function_call\"][\"arguments\"]\n",
    "\n",
    "response"
   ]
  },
  {
   "cell_type": "code",
   "execution_count": 9,
   "id": "c4564158",
   "metadata": {},
   "outputs": [
    {
     "name": "stdout",
     "output_type": "stream",
     "text": [
      "{'question': 'What is the official nickname of San Francisco?', 'answers': [{'answer': 'The Golden City', 'correct': False}, {'answer': 'The City by the Bay', 'correct': True}, {'answer': 'Fog City', 'correct': False}]}\n",
      "{'question': 'Which famous prison is located on an island in San Francisco Bay?', 'answers': [{'answer': 'Alcatraz', 'correct': True}, {'answer': 'San Quentin', 'correct': False}, {'answer': 'Folsom', 'correct': False}]}\n",
      "{'question': 'What iconic red structure is a symbol of San Francisco?', 'answers': [{'answer': 'Golden Gate Bridge', 'correct': True}, {'answer': 'Bay Bridge', 'correct': False}, {'answer': 'Coit Tower', 'correct': False}]}\n",
      "{'question': 'What is the famous former hippie district in San Francisco known for its Victorian houses?', 'answers': [{'answer': 'Haight-Ashbury', 'correct': True}, {'answer': 'Mission District', 'correct': False}, {'answer': 'Castro', 'correct': False}]}\n",
      "{'question': 'Which sports team is based in San Francisco and has won multiple Super Bowl championships?', 'answers': [{'answer': 'San Francisco Giants', 'correct': False}, {'answer': 'Golden State Warriors', 'correct': False}, {'answer': 'San Francisco 49ers', 'correct': True}]}\n"
     ]
    }
   ],
   "source": [
    "import json\n",
    "\n",
    "for question in json.loads(response)['questions']:\n",
    "    print(question)"
   ]
  }
 ],
 "metadata": {
  "kernelspec": {
   "display_name": "env",
   "language": "python",
   "name": "python3"
  },
  "language_info": {
   "codemirror_mode": {
    "name": "ipython",
    "version": 3
   },
   "file_extension": ".py",
   "mimetype": "text/x-python",
   "name": "python",
   "nbconvert_exporter": "python",
   "pygments_lexer": "ipython3",
   "version": "3.11.0"
  }
 },
 "nbformat": 4,
 "nbformat_minor": 5
}
