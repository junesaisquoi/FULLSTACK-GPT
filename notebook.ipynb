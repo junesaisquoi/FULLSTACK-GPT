{
 "cells": [
  {
   "cell_type": "code",
   "execution_count": 24,
   "id": "0a3fa054",
   "metadata": {},
   "outputs": [],
   "source": [
    "from langchain.memory import ConversationSummaryBufferMemory\n",
    "from langchain.chat_models import ChatOpenAI\n",
    "\n",
    "llm = ChatOpenAI(temperature=0.1)\n",
    "\n",
    "memory = ConversationSummaryBufferMemory(\n",
    "    llm=llm,\n",
    "    max_token_limit=150,\n",
    "    return_messages=True\n",
    "    )\n",
    "\n",
    "def add_message(input, output):\n",
    "    memory.save_context({\"input\": input}, {\"output\": output})\n",
    "    \n",
    "def get_history():\n",
    "    return memory.load_memory_variables({})\n",
    "\n",
    "add_message(\"Hi I'm Junie, I live in South Korea\", \"Wow that's so cool!\")"
   ]
  },
  {
   "cell_type": "code",
   "execution_count": 25,
   "id": "beb94eda",
   "metadata": {},
   "outputs": [
    {
     "data": {
      "text/plain": [
       "{'history': [HumanMessage(content=\"Hi I'm Junie, I live in South Korea\", additional_kwargs={}, response_metadata={}),\n",
       "  AIMessage(content=\"Wow that's so cool!\", additional_kwargs={}, response_metadata={})]}"
      ]
     },
     "execution_count": 25,
     "metadata": {},
     "output_type": "execute_result"
    }
   ],
   "source": [
    "get_history()"
   ]
  },
  {
   "cell_type": "code",
   "execution_count": 26,
   "id": "f2834e34",
   "metadata": {},
   "outputs": [],
   "source": [
    "add_message(\"South Korea is amazing\", \"I wish I could go there!\")"
   ]
  },
  {
   "cell_type": "code",
   "execution_count": 27,
   "id": "4e7d4a74",
   "metadata": {},
   "outputs": [
    {
     "data": {
      "text/plain": [
       "{'history': [HumanMessage(content=\"Hi I'm Junie, I live in South Korea\", additional_kwargs={}, response_metadata={}),\n",
       "  AIMessage(content=\"Wow that's so cool!\", additional_kwargs={}, response_metadata={}),\n",
       "  HumanMessage(content='South Korea is amazing', additional_kwargs={}, response_metadata={}),\n",
       "  AIMessage(content='I wish I could go there!', additional_kwargs={}, response_metadata={})]}"
      ]
     },
     "execution_count": 27,
     "metadata": {},
     "output_type": "execute_result"
    }
   ],
   "source": [
    "get_history()"
   ]
  },
  {
   "cell_type": "code",
   "execution_count": 28,
   "id": "6f989801",
   "metadata": {},
   "outputs": [],
   "source": [
    "add_message(\"How far is Korea from Germany?\", \"I don't know. Super far, I guess?\")"
   ]
  },
  {
   "cell_type": "code",
   "execution_count": 29,
   "id": "554e7bd0",
   "metadata": {},
   "outputs": [],
   "source": [
    "add_message(\"What's the population of Korea?\", \"About 52 Million people live there.\")"
   ]
  },
  {
   "cell_type": "code",
   "execution_count": 31,
   "id": "02c5fe63",
   "metadata": {},
   "outputs": [],
   "source": [
    "add_message(\"How long does it take to get from Seoul to Tokyo?\",\"I think it takes 2.5 hours to fly from Seoul to Tokyo.\")"
   ]
  },
  {
   "cell_type": "code",
   "execution_count": 33,
   "id": "cc92fc2a",
   "metadata": {},
   "outputs": [],
   "source": [
    "add_message(\"Where's this famous island in South Korea?\",\"It's Island Jeju!\")"
   ]
  },
  {
   "cell_type": "code",
   "execution_count": 34,
   "id": "7e9523ba",
   "metadata": {},
   "outputs": [
    {
     "data": {
      "text/plain": [
       "{'history': [SystemMessage(content=\"The human introduces themselves as Junie from South Korea. The AI responds with enthusiasm, saying it's cool.\", additional_kwargs={}, response_metadata={}),\n",
       "  HumanMessage(content='South Korea is amazing', additional_kwargs={}, response_metadata={}),\n",
       "  AIMessage(content='I wish I could go there!', additional_kwargs={}, response_metadata={}),\n",
       "  HumanMessage(content='How far is Korea from Germany?', additional_kwargs={}, response_metadata={}),\n",
       "  AIMessage(content=\"I don't know. Super far, I guess?\", additional_kwargs={}, response_metadata={}),\n",
       "  HumanMessage(content=\"What's the population of Korea?\", additional_kwargs={}, response_metadata={}),\n",
       "  AIMessage(content='About 52 Million people live there.', additional_kwargs={}, response_metadata={}),\n",
       "  HumanMessage(content='How long does it take to get from Seoul to Tokyo?', additional_kwargs={}, response_metadata={}),\n",
       "  AIMessage(content='I think it takes 2.5 hours to fly from Seoul to Tokyo.', additional_kwargs={}, response_metadata={}),\n",
       "  HumanMessage(content=\"Where's this famous island in South Korea?\", additional_kwargs={}, response_metadata={}),\n",
       "  AIMessage(content=\"It's Island Jeju!\", additional_kwargs={}, response_metadata={})]}"
      ]
     },
     "execution_count": 34,
     "metadata": {},
     "output_type": "execute_result"
    }
   ],
   "source": [
    "get_history()"
   ]
  }
 ],
 "metadata": {
  "kernelspec": {
   "display_name": "env",
   "language": "python",
   "name": "python3"
  },
  "language_info": {
   "codemirror_mode": {
    "name": "ipython",
    "version": 3
   },
   "file_extension": ".py",
   "mimetype": "text/x-python",
   "name": "python",
   "nbconvert_exporter": "python",
   "pygments_lexer": "ipython3",
   "version": "3.11.0"
  }
 },
 "nbformat": 4,
 "nbformat_minor": 5
}
