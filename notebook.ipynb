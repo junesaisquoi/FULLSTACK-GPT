{
 "cells": [
  {
   "cell_type": "code",
   "execution_count": null,
   "id": "2a8104ad",
   "metadata": {},
   "outputs": [],
   "source": [
    "from langchain.chat_models import ChatOpenAI\n",
    "from langchain.prompts import PromptTemplate\n",
    "\n",
    "def get_weather(lon, lat):\n",
    "    print(f\"Fetching weather for coordinates: {lon}, {lat}\")\n",
    "    \n",
    "function = {\n",
    "    \"name\": \"get_weather\",\n",
    "    \"description\": \"function to get weather information based on the longtitude and latitude of a city\",\n",
    "    \"parameters\": {\n",
    "        \"type\": \"object\",\n",
    "        \"properties\": {\n",
    "            \"lon\": {\n",
    "                \"type\": \"string\",\n",
    "                \"description\": \"The longitude coordinate of the city\"\n",
    "            },\n",
    "            \"lat\": {\n",
    "                \"type\": \"string\",\n",
    "                \"description\": \"The latitude coordinate of the city\"\n",
    "            }\n",
    "        },\n",
    "    },\n",
    "    \"required\": [\"lon\", \"lat\"]\n",
    "}\n",
    "\n",
    "llm = ChatOpenAI(\n",
    "    temperature=0.1\n",
    "    ).bind(\n",
    "        function_call=\"auto\",\n",
    "        functions=[\n",
    "            function\n",
    "        ]\n",
    "    )\n",
    "prompt = PromptTemplate.from_template(\"How's the weather in {city}?\")\n",
    "\n",
    "chain = prompt | llm\n",
    "\n",
    "response = chain.invoke({\n",
    "    \"city\": \"San Francisco\"\n",
    "    })\n",
    "\n",
    "response = response.additional_kwargs[\"function_call\"][\"arguments\"]"
   ]
  },
  {
   "cell_type": "code",
   "execution_count": 5,
   "id": "05e76b3f",
   "metadata": {},
   "outputs": [
    {
     "name": "stdout",
     "output_type": "stream",
     "text": [
      "Fetching weather for coordinates: -122.4194, 37.7749\n"
     ]
    }
   ],
   "source": [
    "import json\n",
    "\n",
    "r = json.loads(response)\n",
    "\n",
    "get_weather(r['lon'], r['lat'])"
   ]
  }
 ],
 "metadata": {
  "kernelspec": {
   "display_name": "env",
   "language": "python",
   "name": "python3"
  },
  "language_info": {
   "codemirror_mode": {
    "name": "ipython",
    "version": 3
   },
   "file_extension": ".py",
   "mimetype": "text/x-python",
   "name": "python",
   "nbconvert_exporter": "python",
   "pygments_lexer": "ipython3",
   "version": "3.11.0"
  }
 },
 "nbformat": 4,
 "nbformat_minor": 5
}
