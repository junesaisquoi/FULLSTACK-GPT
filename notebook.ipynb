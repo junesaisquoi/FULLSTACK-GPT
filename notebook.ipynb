{
 "cells": [
  {
   "cell_type": "code",
   "execution_count": 48,
   "id": "0a3fa054",
   "metadata": {},
   "outputs": [
    {
     "name": "stdout",
     "output_type": "stream",
     "text": [
      "\n",
      "\n",
      "\u001b[1m> Entering new LLMChain chain...\u001b[0m\n",
      "Prompt after formatting:\n",
      "\u001b[32;1m\u001b[1;3m\n",
      "You are a helpful AI assistant talking to a human.\n",
      "\n",
      "\n",
      "Human:My name is Junie\n",
      "You:\n",
      "\u001b[0m\n",
      "\n",
      "\u001b[1m> Finished chain.\u001b[0m\n"
     ]
    },
    {
     "data": {
      "text/plain": [
       "'Nice to meet you, Junie! How can I assist you today?'"
      ]
     },
     "execution_count": 48,
     "metadata": {},
     "output_type": "execute_result"
    }
   ],
   "source": [
    "from langchain.memory import ConversationSummaryBufferMemory\n",
    "from langchain.chat_models import ChatOpenAI\n",
    "from langchain.chains import LLMChain\n",
    "from langchain.prompts import PromptTemplate\n",
    "\n",
    "llm = ChatOpenAI(temperature=0.1)\n",
    "\n",
    "memory = ConversationSummaryBufferMemory(\n",
    "    llm=llm,\n",
    "    max_token_limit=120,\n",
    "    memory_key=\"chat_history\"\n",
    "    )\n",
    "\n",
    "template = \"\"\"\n",
    "You are a helpful AI assistant talking to a human.\n",
    "\n",
    "{chat_history}\n",
    "Human:{question}\n",
    "You:\n",
    "\"\"\"\n",
    "\n",
    "chain = LLMChain(\n",
    "    llm=llm,\n",
    "    memory=memory,\n",
    "    prompt=PromptTemplate.from_template(template),\n",
    "    verbose=True\n",
    ")\n",
    "\n",
    "chain.predict(question=\"My name is Junie\")\n"
   ]
  },
  {
   "cell_type": "code",
   "execution_count": 52,
   "id": "67da43ac",
   "metadata": {},
   "outputs": [
    {
     "name": "stdout",
     "output_type": "stream",
     "text": [
      "\n",
      "\n",
      "\u001b[1m> Entering new LLMChain chain...\u001b[0m\n",
      "Prompt after formatting:\n",
      "\u001b[32;1m\u001b[1;3m\n",
      "You are a helpful AI assistant talking to a human.\n",
      "\n",
      "System: The human introduces themselves as Junie.\n",
      "AI: Nice to meet you, Junie! How can I assist you today?\n",
      "Human: I live in Munich\n",
      "AI: That's great to know, Junie! How can I assist you with information or tasks related to Munich?\n",
      "Human: What's my name?\n",
      "AI: Your name is Junie.\n",
      "Human: I live in Munich\n",
      "AI: Yes, you mentioned earlier that you live in Munich. Is there anything specific you would like to know or discuss about Munich?\n",
      "Human:I live in Munich\n",
      "You:\n",
      "\u001b[0m\n",
      "\n",
      "\u001b[1m> Finished chain.\u001b[0m\n"
     ]
    },
    {
     "data": {
      "text/plain": [
       "'Yes, you mentioned that you live in Munich. Is there anything specific you would like to know or discuss about the city?'"
      ]
     },
     "execution_count": 52,
     "metadata": {},
     "output_type": "execute_result"
    }
   ],
   "source": [
    "chain.predict(question=\"I live in Munich\")"
   ]
  },
  {
   "cell_type": "code",
   "execution_count": 53,
   "id": "ddbea242",
   "metadata": {},
   "outputs": [
    {
     "name": "stdout",
     "output_type": "stream",
     "text": [
      "\n",
      "\n",
      "\u001b[1m> Entering new LLMChain chain...\u001b[0m\n",
      "Prompt after formatting:\n",
      "\u001b[32;1m\u001b[1;3m\n",
      "You are a helpful AI assistant talking to a human.\n",
      "\n",
      "System: Junie introduces themselves to the AI. The AI responds by greeting Junie and offering assistance. Junie mentions they live in Munich, to which the AI acknowledges and offers help with information or tasks related to Munich.\n",
      "Human: What's my name?\n",
      "AI: Your name is Junie.\n",
      "Human: I live in Munich\n",
      "AI: Yes, you mentioned earlier that you live in Munich. Is there anything specific you would like to know or discuss about Munich?\n",
      "Human: I live in Munich\n",
      "AI: Yes, you mentioned that you live in Munich. Is there anything specific you would like to know or discuss about the city?\n",
      "Human:What's my name?\n",
      "You:\n",
      "\u001b[0m\n",
      "\n",
      "\u001b[1m> Finished chain.\u001b[0m\n"
     ]
    },
    {
     "data": {
      "text/plain": [
       "'Your name is Junie. How can I assist you today?'"
      ]
     },
     "execution_count": 53,
     "metadata": {},
     "output_type": "execute_result"
    }
   ],
   "source": [
    "chain.predict(question=\"What's my name?\")"
   ]
  },
  {
   "cell_type": "code",
   "execution_count": null,
   "id": "f3babe8c",
   "metadata": {},
   "outputs": [
    {
     "data": {
      "text/plain": [
       "{'history': \"System: Junie introduces themselves and the AI responds by saying it's nice to meet them and asks how it can assist. Junie shares that they live in Munich, and the AI expresses admiration for the city's beauty and culture, mentioning popular attractions and asking what Junie enjoys most about living there.\\nHuman: What's my name?\\nAI: I'm sorry, I do not have access to personal information such as your name. How can I assist you today?\"}"
      ]
     },
     "execution_count": 46,
     "metadata": {},
     "output_type": "execute_result"
    }
   ],
   "source": [
    "# memory.load_memory_variables({})"
   ]
  }
 ],
 "metadata": {
  "kernelspec": {
   "display_name": "env",
   "language": "python",
   "name": "python3"
  },
  "language_info": {
   "codemirror_mode": {
    "name": "ipython",
    "version": 3
   },
   "file_extension": ".py",
   "mimetype": "text/x-python",
   "name": "python",
   "nbconvert_exporter": "python",
   "pygments_lexer": "ipython3",
   "version": "3.11.0"
  }
 },
 "nbformat": 4,
 "nbformat_minor": 5
}
