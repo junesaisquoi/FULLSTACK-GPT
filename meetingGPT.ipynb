{
 "cells": [
  {
   "cell_type": "code",
   "execution_count": null,
   "id": "2a8104ad",
   "metadata": {},
   "outputs": [
    {
     "data": {
      "text/plain": [
       "'{\"questions\":[{\"question\":\"What is the official nickname of San Francisco?\",\"answers\":[{\"answer\":\"The Golden City\",\"correct\":false},{\"answer\":\"The City by the Bay\",\"correct\":true},{\"answer\":\"Fog City\",\"correct\":false}]},{\"question\":\"Which famous prison is located on an island in San Francisco Bay?\",\"answers\":[{\"answer\":\"Alcatraz\",\"correct\":true},{\"answer\":\"San Quentin\",\"correct\":false},{\"answer\":\"Folsom\",\"correct\":false}]},{\"question\":\"What iconic red structure is a symbol of San Francisco?\",\"answers\":[{\"answer\":\"Golden Gate Bridge\",\"correct\":true},{\"answer\":\"Bay Bridge\",\"correct\":false},{\"answer\":\"Coit Tower\",\"correct\":false}]},{\"question\":\"What is the famous former hippie district in San Francisco known for its Victorian houses?\",\"answers\":[{\"answer\":\"Haight-Ashbury\",\"correct\":true},{\"answer\":\"Mission District\",\"correct\":false},{\"answer\":\"Castro\",\"correct\":false}]},{\"question\":\"Which sports team is based in San Francisco and has won multiple Super Bowl championships?\",\"answers\":[{\"answer\":\"San Francisco Giants\",\"correct\":false},{\"answer\":\"Golden State Warriors\",\"correct\":false},{\"answer\":\"San Francisco 49ers\",\"correct\":true}]}]}'"
      ]
     },
     "execution_count": 7,
     "metadata": {},
     "output_type": "execute_result"
    }
   ],
   "source": [
    "from langchain.chat_models import ChatOpenAI\n",
    "from langchain.tools import StructuredTool\n",
    "from langchain.agents import initialize_agent, AgentType\n",
    "llm = ChatOpenAI(temperature=0.1)\n",
    "\n",
    "agent = initialize_agent(llm=llm, tools = [\n",
    "    StructuredTool.from_function()\n",
    "])"
   ]
  }
 ],
 "metadata": {
  "kernelspec": {
   "display_name": "env",
   "language": "python",
   "name": "python3"
  },
  "language_info": {
   "codemirror_mode": {
    "name": "ipython",
    "version": 3
   },
   "file_extension": ".py",
   "mimetype": "text/x-python",
   "name": "python",
   "nbconvert_exporter": "python",
   "pygments_lexer": "ipython3",
   "version": "3.11.0"
  }
 },
 "nbformat": 4,
 "nbformat_minor": 5
}
